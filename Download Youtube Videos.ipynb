{
  "cells": [
    {
      "cell_type": "markdown",
      "metadata": {
        "id": "view-in-github",
        "colab_type": "text"
      },
      "source": [
        "<a href=\"https://colab.research.google.com/github/PilarValbuena/Tests/blob/master/Download_youtube_videos.ipynb\" target=\"_parent\"><img src=\"https://colab.research.google.com/assets/colab-badge.svg\" alt=\"Open In Colab\"/></a>"
      ]
    },
    {
      "cell_type": "markdown",
      "metadata": {
        "id": "-wWi2gggyq-G"
      },
      "source": [
        "https://www.youtube.com/watch?v=bsNWQLzANpI\n",
        "\n",
        "https://stackoverflow.com/questions/40713268/download-youtube-video-using-python-to-a-certain-directory\n",
        "\n",
        "I found out a really cool python module that allows you to download videos from youtube easily. TO install it:\n",
        "\n",
        "`pip install pytube`\n",
        "Now, You can download your video like this -\n",
        "\n",
        "```\n",
        "from pytube import YouTube\n",
        "yt = YouTube(\"https://www.youtube.com/watch?v=n06H7OcPd-g\")\n",
        "yt = yt.get('mp4', '720p')\n",
        "yt.download('/path/to/download/directory')\n",
        "```\n",
        "\n",
        "Boom, Now you can easily scrape such videos using Python easily; Now, We Drink!\n",
        "\n",
        "Update 1:\n",
        "Thanks to @Chiramisu's comment, You can use the following one-liner to download the highest quality video:\n",
        "\n",
        "`YouTube('video_url').streams.first().download('save_path')`"
      ]
    },
    {
      "cell_type": "markdown",
      "metadata": {
        "id": "hdMK2MGXVVZb"
      },
      "source": [
        "##List of videos (Excell file)\n"
      ]
    },
    {
      "cell_type": "code",
      "source": [
        "#Install pytube\n",
        "!pip install pytube"
      ],
      "metadata": {
        "id": "gyVv7BOS0ZI_"
      },
      "execution_count": null,
      "outputs": []
    },
    {
      "cell_type": "code",
      "source": [
        "#Charge packages needed\n",
        "from pytube import YouTube\n",
        "import os\n",
        "from google.colab import files"
      ],
      "metadata": {
        "id": "q9z_ifyB0cBg"
      },
      "execution_count": null,
      "outputs": []
    },
    {
      "cell_type": "code",
      "execution_count": null,
      "metadata": {
        "id": "G2UE7N6KVYvY"
      },
      "outputs": [],
      "source": [
        "#Function to download the videos\n",
        "def downloadYouTube(videourl, path):\n",
        "\n",
        "    yt = YouTube(videourl)\n",
        "    yt = yt.streams.filter(progressive=True, file_extension='mp4').order_by('resolution').desc().first()\n",
        "    if not os.path.exists(path):\n",
        "        os.makedirs(path)\n",
        "    yt.download(path)"
      ]
    },
    {
      "cell_type": "code",
      "execution_count": null,
      "metadata": {
        "colab": {
          "base_uri": "https://localhost:8080/"
        },
        "id": "_jHQaemNV01K",
        "outputId": "fcb89d4c-ecae-4c5b-d195-3558fbf88f91"
      },
      "outputs": [
        {
          "output_type": "stream",
          "name": "stdout",
          "text": [
            "Mounted at /content/drive\n"
          ]
        }
      ],
      "source": [
        "#Mount your google drive\n",
        "from google.colab import drive\n",
        "drive.mount('/content/drive')"
      ]
    },
    {
      "cell_type": "code",
      "execution_count": null,
      "metadata": {
        "id": "QmJJiFv5V3Zm"
      },
      "outputs": [],
      "source": [
        "#import pandas\n",
        "import pandas as pd"
      ]
    },
    {
      "cell_type": "code",
      "execution_count": null,
      "metadata": {
        "id": "1ZmJfCuNaxuz"
      },
      "outputs": [],
      "source": [
        "#Path to the excell file on your drive\n",
        "path='/content/drive/MyDrive/Colab Notebooks/12May-WFC2021_recording_16052022.xlsx'"
      ]
    },
    {
      "cell_type": "code",
      "execution_count": null,
      "metadata": {
        "id": "dXne1eRFa_ne"
      },
      "outputs": [],
      "source": [
        "#Read excell and create a \"pandas\" file\n",
        "urls=pd.read_excel(path, sheet_name='Hoja1')"
      ]
    },
    {
      "cell_type": "code",
      "execution_count": null,
      "metadata": {
        "colab": {
          "base_uri": "https://localhost:8080/",
          "height": 337
        },
        "id": "B6jjqtoGbTnR",
        "outputId": "eb60d8f2-bba7-412a-ffc2-8a839eb22eb0"
      },
      "outputs": [
        {
          "output_type": "execute_result",
          "data": {
            "text/plain": [
              "        date language                          link  \\\n",
              "0 2022-05-05      SPN  https://youtu.be/LCMjk9B4QJ8   \n",
              "1 2022-05-05      SPN  https://youtu.be/XR-20v9hLAo   \n",
              "2 2022-05-05      ENG  https://youtu.be/yHUyKPDBZ4k   \n",
              "3 2022-05-05      KOR  https://youtu.be/zFCawf458AU   \n",
              "4 2022-05-05      FRA  https://youtu.be/b623bKyviaM   \n",
              "\n",
              "                                               title  \n",
              "0  Special event \\nThe future is now: Investing i...  \n",
              "1  Special event \\nThe contribution of forest cir...  \n",
              "2  Special event \\nRural finance forest and farm ...  \n",
              "3  Special event \\nRural finance forest and farm ...  \n",
              "4  Special event \\nRural finance forest and farm ...  "
            ],
            "text/html": [
              "\n",
              "  <div id=\"df-5ec8c9c2-6537-4915-9bf8-4090083df500\">\n",
              "    <div class=\"colab-df-container\">\n",
              "      <div>\n",
              "<style scoped>\n",
              "    .dataframe tbody tr th:only-of-type {\n",
              "        vertical-align: middle;\n",
              "    }\n",
              "\n",
              "    .dataframe tbody tr th {\n",
              "        vertical-align: top;\n",
              "    }\n",
              "\n",
              "    .dataframe thead th {\n",
              "        text-align: right;\n",
              "    }\n",
              "</style>\n",
              "<table border=\"1\" class=\"dataframe\">\n",
              "  <thead>\n",
              "    <tr style=\"text-align: right;\">\n",
              "      <th></th>\n",
              "      <th>date</th>\n",
              "      <th>language</th>\n",
              "      <th>link</th>\n",
              "      <th>title</th>\n",
              "    </tr>\n",
              "  </thead>\n",
              "  <tbody>\n",
              "    <tr>\n",
              "      <th>0</th>\n",
              "      <td>2022-05-05</td>\n",
              "      <td>SPN</td>\n",
              "      <td>https://youtu.be/LCMjk9B4QJ8</td>\n",
              "      <td>Special event \\nThe future is now: Investing i...</td>\n",
              "    </tr>\n",
              "    <tr>\n",
              "      <th>1</th>\n",
              "      <td>2022-05-05</td>\n",
              "      <td>SPN</td>\n",
              "      <td>https://youtu.be/XR-20v9hLAo</td>\n",
              "      <td>Special event \\nThe contribution of forest cir...</td>\n",
              "    </tr>\n",
              "    <tr>\n",
              "      <th>2</th>\n",
              "      <td>2022-05-05</td>\n",
              "      <td>ENG</td>\n",
              "      <td>https://youtu.be/yHUyKPDBZ4k</td>\n",
              "      <td>Special event \\nRural finance forest and farm ...</td>\n",
              "    </tr>\n",
              "    <tr>\n",
              "      <th>3</th>\n",
              "      <td>2022-05-05</td>\n",
              "      <td>KOR</td>\n",
              "      <td>https://youtu.be/zFCawf458AU</td>\n",
              "      <td>Special event \\nRural finance forest and farm ...</td>\n",
              "    </tr>\n",
              "    <tr>\n",
              "      <th>4</th>\n",
              "      <td>2022-05-05</td>\n",
              "      <td>FRA</td>\n",
              "      <td>https://youtu.be/b623bKyviaM</td>\n",
              "      <td>Special event \\nRural finance forest and farm ...</td>\n",
              "    </tr>\n",
              "  </tbody>\n",
              "</table>\n",
              "</div>\n",
              "      <button class=\"colab-df-convert\" onclick=\"convertToInteractive('df-5ec8c9c2-6537-4915-9bf8-4090083df500')\"\n",
              "              title=\"Convert this dataframe to an interactive table.\"\n",
              "              style=\"display:none;\">\n",
              "        \n",
              "  <svg xmlns=\"http://www.w3.org/2000/svg\" height=\"24px\"viewBox=\"0 0 24 24\"\n",
              "       width=\"24px\">\n",
              "    <path d=\"M0 0h24v24H0V0z\" fill=\"none\"/>\n",
              "    <path d=\"M18.56 5.44l.94 2.06.94-2.06 2.06-.94-2.06-.94-.94-2.06-.94 2.06-2.06.94zm-11 1L8.5 8.5l.94-2.06 2.06-.94-2.06-.94L8.5 2.5l-.94 2.06-2.06.94zm10 10l.94 2.06.94-2.06 2.06-.94-2.06-.94-.94-2.06-.94 2.06-2.06.94z\"/><path d=\"M17.41 7.96l-1.37-1.37c-.4-.4-.92-.59-1.43-.59-.52 0-1.04.2-1.43.59L10.3 9.45l-7.72 7.72c-.78.78-.78 2.05 0 2.83L4 21.41c.39.39.9.59 1.41.59.51 0 1.02-.2 1.41-.59l7.78-7.78 2.81-2.81c.8-.78.8-2.07 0-2.86zM5.41 20L4 18.59l7.72-7.72 1.47 1.35L5.41 20z\"/>\n",
              "  </svg>\n",
              "      </button>\n",
              "      \n",
              "  <style>\n",
              "    .colab-df-container {\n",
              "      display:flex;\n",
              "      flex-wrap:wrap;\n",
              "      gap: 12px;\n",
              "    }\n",
              "\n",
              "    .colab-df-convert {\n",
              "      background-color: #E8F0FE;\n",
              "      border: none;\n",
              "      border-radius: 50%;\n",
              "      cursor: pointer;\n",
              "      display: none;\n",
              "      fill: #1967D2;\n",
              "      height: 32px;\n",
              "      padding: 0 0 0 0;\n",
              "      width: 32px;\n",
              "    }\n",
              "\n",
              "    .colab-df-convert:hover {\n",
              "      background-color: #E2EBFA;\n",
              "      box-shadow: 0px 1px 2px rgba(60, 64, 67, 0.3), 0px 1px 3px 1px rgba(60, 64, 67, 0.15);\n",
              "      fill: #174EA6;\n",
              "    }\n",
              "\n",
              "    [theme=dark] .colab-df-convert {\n",
              "      background-color: #3B4455;\n",
              "      fill: #D2E3FC;\n",
              "    }\n",
              "\n",
              "    [theme=dark] .colab-df-convert:hover {\n",
              "      background-color: #434B5C;\n",
              "      box-shadow: 0px 1px 3px 1px rgba(0, 0, 0, 0.15);\n",
              "      filter: drop-shadow(0px 1px 2px rgba(0, 0, 0, 0.3));\n",
              "      fill: #FFFFFF;\n",
              "    }\n",
              "  </style>\n",
              "\n",
              "      <script>\n",
              "        const buttonEl =\n",
              "          document.querySelector('#df-5ec8c9c2-6537-4915-9bf8-4090083df500 button.colab-df-convert');\n",
              "        buttonEl.style.display =\n",
              "          google.colab.kernel.accessAllowed ? 'block' : 'none';\n",
              "\n",
              "        async function convertToInteractive(key) {\n",
              "          const element = document.querySelector('#df-5ec8c9c2-6537-4915-9bf8-4090083df500');\n",
              "          const dataTable =\n",
              "            await google.colab.kernel.invokeFunction('convertToInteractive',\n",
              "                                                     [key], {});\n",
              "          if (!dataTable) return;\n",
              "\n",
              "          const docLinkHtml = 'Like what you see? Visit the ' +\n",
              "            '<a target=\"_blank\" href=https://colab.research.google.com/notebooks/data_table.ipynb>data table notebook</a>'\n",
              "            + ' to learn more about interactive tables.';\n",
              "          element.innerHTML = '';\n",
              "          dataTable['output_type'] = 'display_data';\n",
              "          await google.colab.output.renderOutput(dataTable, element);\n",
              "          const docLink = document.createElement('div');\n",
              "          docLink.innerHTML = docLinkHtml;\n",
              "          element.appendChild(docLink);\n",
              "        }\n",
              "      </script>\n",
              "    </div>\n",
              "  </div>\n",
              "  "
            ]
          },
          "metadata": {},
          "execution_count": 7
        }
      ],
      "source": [
        "#Show the spreadsheet\n",
        "urls.head()\n"
      ]
    },
    {
      "cell_type": "code",
      "execution_count": null,
      "metadata": {
        "colab": {
          "base_uri": "https://localhost:8080/",
          "height": 35
        },
        "id": "3Q8hJd7JqJTM",
        "outputId": "20198d11-557d-4eb0-c942-9cbae7c1e540"
      },
      "outputs": [
        {
          "output_type": "execute_result",
          "data": {
            "text/plain": [
              "'https://youtu.be/XR-20v9hLAo'"
            ],
            "application/vnd.google.colaboratory.intrinsic+json": {
              "type": "string"
            }
          },
          "metadata": {},
          "execution_count": 8
        }
      ],
      "source": [
        "#Show the first url data on the spreadsheet (to check everything is ok)\n",
        "urls.loc[1,'link']\n"
      ]
    },
    {
      "cell_type": "code",
      "execution_count": null,
      "metadata": {
        "id": "t28DhLeRuNo-"
      },
      "outputs": [],
      "source": [
        "#Download all the urls to the WFCKorea folder\n",
        "for i in urls.index:\n",
        "  downloadYouTube(urls.loc[i,'link'], './content/WFCKorea')"
      ]
    },
    {
      "cell_type": "code",
      "execution_count": null,
      "metadata": {
        "colab": {
          "base_uri": "https://localhost:8080/",
          "height": 206
        },
        "id": "_ZDNhEPMHdWA",
        "outputId": "0ee39dfd-4f95-4540-e0b3-e827166607b5"
      },
      "outputs": [
        {
          "output_type": "error",
          "ename": "NameError",
          "evalue": "ignored",
          "traceback": [
            "\u001b[0;31m---------------------------------------------------------------------------\u001b[0m",
            "\u001b[0;31mNameError\u001b[0m                                 Traceback (most recent call last)",
            "\u001b[0;32m<ipython-input-1-7d1cbef22b65>\u001b[0m in \u001b[0;36m<module>\u001b[0;34m()\u001b[0m\n\u001b[0;32m----> 1\u001b[0;31m \u001b[0;32mfor\u001b[0m \u001b[0mi\u001b[0m \u001b[0;32min\u001b[0m \u001b[0mos\u001b[0m\u001b[0;34m.\u001b[0m\u001b[0mlistdir\u001b[0m\u001b[0;34m(\u001b[0m\u001b[0;34m'./content/WFCKorea/'\u001b[0m\u001b[0;34m)\u001b[0m \u001b[0;34m:\u001b[0m\u001b[0;34m\u001b[0m\u001b[0;34m\u001b[0m\u001b[0m\n\u001b[0m\u001b[1;32m      2\u001b[0m  \u001b[0;31m#print(i)\u001b[0m\u001b[0;34m\u001b[0m\u001b[0;34m\u001b[0m\u001b[0;34m\u001b[0m\u001b[0m\n\u001b[1;32m      3\u001b[0m  \u001b[0mfiles\u001b[0m\u001b[0;34m.\u001b[0m\u001b[0mdownload\u001b[0m\u001b[0;34m(\u001b[0m\u001b[0;34m'./content/WFCKorea/'\u001b[0m\u001b[0;34m+\u001b[0m\u001b[0mi\u001b[0m\u001b[0;34m)\u001b[0m\u001b[0;34m\u001b[0m\u001b[0;34m\u001b[0m\u001b[0m\n",
            "\u001b[0;31mNameError\u001b[0m: name 'os' is not defined"
          ]
        }
      ],
      "source": [
        "#Download all the files on the WFCKorea folder\n",
        "for i in os.listdir('./content/WFCKorea/') :  \n",
        " #print(i)\n",
        " files.download('./content/WFCKorea/'+i)"
      ]
    }
  ],
  "metadata": {
    "colab": {
      "collapsed_sections": [],
      "name": "Download_youtube_videos.ipynb",
      "provenance": [],
      "include_colab_link": true
    },
    "kernelspec": {
      "display_name": "Python 2",
      "name": "python2"
    }
  },
  "nbformat": 4,
  "nbformat_minor": 0
}
